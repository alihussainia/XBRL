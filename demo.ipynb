{
 "cells": [
  {
   "cell_type": "code",
   "execution_count": null,
   "metadata": {
    "colab": {
     "base_uri": "https://localhost:8080/",
     "height": 570
    },
    "colab_type": "code",
    "id": "Khl3UAb0Qsak",
    "outputId": "bfbefc0c-c890-4d9f-becc-62b5aff1a4e5"
   },
   "outputs": [
    {
     "name": "stdout",
     "output_type": "stream",
     "text": [
      "Collecting python-xbrl\n",
      "  Downloading https://files.pythonhosted.org/packages/c5/ba/a775eb59368287827dede54acede3748886a9ae3ba38e591a42936a2030b/python-xbrl-1.1.1.tar.gz\n",
      "Requirement already satisfied: pytest in /usr/local/lib/python3.6/dist-packages (from python-xbrl) (3.6.4)\n",
      "Collecting pep8\n",
      "\u001b[?25l  Downloading https://files.pythonhosted.org/packages/42/3f/669429ce58de2c22d8d2c542752e137ec4b9885fff398d3eceb1a7f5acb4/pep8-1.7.1-py2.py3-none-any.whl (41kB)\n",
      "\u001b[K     |████████████████████████████████| 51kB 2.4MB/s \n",
      "\u001b[?25hCollecting marshmallow\n",
      "\u001b[?25l  Downloading https://files.pythonhosted.org/packages/a6/11/f824483fcfc4164d733c0a242cc01f7e3b153561500a6a69bba217c9f0f6/marshmallow-3.7.1-py2.py3-none-any.whl (45kB)\n",
      "\u001b[K     |████████████████████████████████| 51kB 4.9MB/s \n",
      "\u001b[?25hRequirement already satisfied: beautifulsoup4 in /usr/local/lib/python3.6/dist-packages (from python-xbrl) (4.6.3)\n",
      "Collecting ordereddict\n",
      "  Downloading https://files.pythonhosted.org/packages/53/25/ef88e8e45db141faa9598fbf7ad0062df8f50f881a36ed6a0073e1572126/ordereddict-1.1.tar.gz\n",
      "Requirement already satisfied: lxml in /usr/local/lib/python3.6/dist-packages (from python-xbrl) (4.2.6)\n",
      "Requirement already satisfied: six in /usr/local/lib/python3.6/dist-packages (from python-xbrl) (1.15.0)\n",
      "Requirement already satisfied: pluggy<0.8,>=0.5 in /usr/local/lib/python3.6/dist-packages (from pytest->python-xbrl) (0.7.1)\n",
      "Requirement already satisfied: atomicwrites>=1.0 in /usr/local/lib/python3.6/dist-packages (from pytest->python-xbrl) (1.4.0)\n",
      "Requirement already satisfied: setuptools in /usr/local/lib/python3.6/dist-packages (from pytest->python-xbrl) (49.6.0)\n",
      "Requirement already satisfied: py>=1.5.0 in /usr/local/lib/python3.6/dist-packages (from pytest->python-xbrl) (1.9.0)\n",
      "Requirement already satisfied: attrs>=17.4.0 in /usr/local/lib/python3.6/dist-packages (from pytest->python-xbrl) (20.1.0)\n",
      "Requirement already satisfied: more-itertools>=4.0.0 in /usr/local/lib/python3.6/dist-packages (from pytest->python-xbrl) (8.4.0)\n",
      "Building wheels for collected packages: python-xbrl, ordereddict\n",
      "  Building wheel for python-xbrl (setup.py) ... \u001b[?25l\u001b[?25hdone\n",
      "  Created wheel for python-xbrl: filename=python_xbrl-1.1.1-py2.py3-none-any.whl size=10621 sha256=728930b362ad979bcb77aac294ab24e73137618da0cbd750405ad948ac3e2bf3\n",
      "  Stored in directory: /root/.cache/pip/wheels/b2/a1/74/4c777bfc9b209ea0f28328facc688fe57cc9a4dd38a5756412\n",
      "  Building wheel for ordereddict (setup.py) ... \u001b[?25l\u001b[?25hdone\n",
      "  Created wheel for ordereddict: filename=ordereddict-1.1-cp36-none-any.whl size=3554 sha256=ee6f945b50e86b89ab235e828834f0d721f0e3348f5e97e7bee6da18ef141877\n",
      "  Stored in directory: /root/.cache/pip/wheels/78/d3/a8/9f52c7a389a0ffba6f575a3886b5f7a55461fb6ec34aa5fd38\n",
      "Successfully built python-xbrl ordereddict\n",
      "Installing collected packages: pep8, marshmallow, ordereddict, python-xbrl\n",
      "Successfully installed marshmallow-3.7.1 ordereddict-1.1 pep8-1.7.1 python-xbrl-1.1.1\n"
     ]
    }
   ],
   "source": [
    "!pip install python-xbrl\n",
    "import pandas as pd"
   ]
  },
  {
   "cell_type": "code",
   "execution_count": null,
   "metadata": {
    "colab": {
     "base_uri": "https://localhost:8080/",
     "height": 212
    },
    "colab_type": "code",
    "id": "wKUFN-SPknE4",
    "outputId": "818be7a6-a549-4280-830e-ed516715898e"
   },
   "outputs": [
    {
     "name": "stdout",
     "output_type": "stream",
     "text": [
      "--2020-08-27 10:59:38--  https://www.sec.gov/Archives/edgar/data/101984/000010198416000062/ueic-20151231.xml\n",
      "Resolving www.sec.gov (www.sec.gov)... 172.224.85.27, 2600:1402:3800:29e::2374, 2600:1402:3800:296::2374\n",
      "Connecting to www.sec.gov (www.sec.gov)|172.224.85.27|:443... connected.\n",
      "HTTP request sent, awaiting response... 200 OK\n",
      "Length: unspecified [text/xml]\n",
      "Saving to: ‘ueic-20151231.xml’\n",
      "\n",
      "ueic-20151231.xml       [  <=>               ]   2.68M  12.3MB/s    in 0.2s    \n",
      "\n",
      "2020-08-27 10:59:39 (12.3 MB/s) - ‘ueic-20151231.xml’ saved [2809894]\n",
      "\n"
     ]
    }
   ],
   "source": [
    "!wget \"https://www.sec.gov/Archives/edgar/data/101984/000010198416000062/ueic-20151231.xml\""
   ]
  },
  {
   "cell_type": "code",
   "execution_count": null,
   "metadata": {
    "colab": {},
    "colab_type": "code",
    "id": "vsbCP9HwI6xp"
   },
   "outputs": [],
   "source": [
    "from xbrl import XBRLParser, GAAP, GAAPSerializer"
   ]
  },
  {
   "cell_type": "code",
   "execution_count": null,
   "metadata": {
    "colab": {},
    "colab_type": "code",
    "id": "Wy_CjLcbYDp1"
   },
   "outputs": [],
   "source": [
    "xbrl_parser = XBRLParser()"
   ]
  },
  {
   "cell_type": "code",
   "execution_count": null,
   "metadata": {
    "colab": {},
    "colab_type": "code",
    "id": "o8RW7RB0k5K8"
   },
   "outputs": [],
   "source": [
    "xbrl = xbrl_parser.parse(\"ueic-20151231.xml\")"
   ]
  },
  {
   "cell_type": "code",
   "execution_count": null,
   "metadata": {
    "colab": {},
    "colab_type": "code",
    "id": "RUggVl_mHkyo"
   },
   "outputs": [],
   "source": [
    "gaap_obj = xbrl_parser.parseGAAP(xbrl, doc_date=\"20151231\", context=\"current\", ignore_errors=0)"
   ]
  },
  {
   "cell_type": "markdown",
   "metadata": {
    "colab_type": "text",
    "id": "H7zsTivLlxeX"
   },
   "source": [
    "Now we have a `GAAP` model object that has the GAAP parsed elements from the document.\n",
    "\n",
    "This model object supports the several different features including:\n",
    "\n",
    "- `context` current, year, and instant contexts are supported. If available you can also get previous quarter information by number of days from doc date. Example: 90, 180, etc.\n",
    "- Error handling. `0` raise exception for all parsing errors and halt parsing, `1` Supress all parsing errors and continue parsing, `2` Log all parsing errors and continue parsing.\n",
    "\n",
    "You can serialize the GAAP model object into a serialized object acceptable for rending into a standard format such as JSON or HTTP API."
   ]
  },
  {
   "cell_type": "code",
   "execution_count": null,
   "metadata": {
    "colab": {},
    "colab_type": "code",
    "id": "4wBqwj3clQ7M"
   },
   "outputs": [],
   "source": [
    "serializer = GAAPSerializer()\n",
    "result = serializer.dump(gaap_obj)"
   ]
  },
  {
   "cell_type": "markdown",
   "metadata": {
    "colab_type": "text",
    "id": "x6dfdIywmnxX"
   },
   "source": [
    "Viewing Results"
   ]
  },
  {
   "cell_type": "code",
   "execution_count": null,
   "metadata": {
    "colab": {
     "base_uri": "https://localhost:8080/",
     "height": 54
    },
    "colab_type": "code",
    "id": "DyEOWHVsmn64",
    "outputId": "7667d553-15a4-4a22-c902-f3bafe6e8c3a"
   },
   "outputs": [
    {
     "name": "stdout",
     "output_type": "stream",
     "text": [
      "{'income_tax_expense_benefit': 0.0, 'costs_and_expenses': 0.0, 'assets': 495220.0, 'net_income_loss': 9339.0, 'current_liabilities': 0.0, 'nonoperating_income_loss': 0.0, 'net_cash_flows_operating_continuing': 0.0, 'common_shares_authorized': 0.0, 'common_shares_outstanding': 0.0, 'comprehensive_income_parent': 0.0, 'temporary_equity': 0.0, 'comprehensive_income': 0.0, 'operating_income_loss': 0.0, 'equity_attributable_interest': 299.0, 'cost_of_revenue': 0.0, 'income_from_equity_investments': 0.0, 'net_income_shareholders': 0.0, 'net_cash_flows_operating_discontinued': 0.0, 'stockholders_equity': 257609.0, 'net_cash_flows_investing_continuing': 0.0, 'net_cash_flows_discontinued': 0.0, 'net_cash_flows_financing_continuing': 0.0, 'net_cash_flows_financing': 0.0, 'non_current_assets': 5365.0, 'commitments_and_contingencies': 0.0, 'comprehensive_income_interest': 0.0, 'interest_and_debt_expense': 0.0, 'liabilities': 6888.0, 'revenue': 0.0, 'income_before_equity_investments': 0.0, 'income_loss': 9339.0, 'current_assets': 95380.0, 'redeemable_noncontrolling_interest': 0.0, 'gross_profit': 46251.0, 'operating_expenses': 0.0, 'other_operating_income': 0.0, 'liabilities_and_equity': 495220.0, 'other_comprehensive_income': 0.0, 'preferred_stock_dividends': 0.0, 'net_cash_flows_investing_discontinued': 0.0, 'extraordary_items_gain_loss': 0.0, 'net_cash_flows_investing': 0.0, 'equity': 0.0, 'net_cash_flows_operating': 0.0, 'noncurrent_liabilities': 0.0, 'equity_attributable_parent': 0.0, 'net_income_loss_noncontrolling': 0.0, 'net_income_parent': 0.0, 'common_shares_issued': 0.0}\n"
     ]
    }
   ],
   "source": [
    "print(result)"
   ]
  },
  {
   "cell_type": "markdown",
   "metadata": {
    "colab_type": "text",
    "id": "_6nSiqCTo09d"
   },
   "source": [
    "# Current Ratio"
   ]
  },
  {
   "cell_type": "code",
   "execution_count": null,
   "metadata": {
    "colab": {},
    "colab_type": "code",
    "id": "f0WZ28LFlSn3"
   },
   "outputs": [],
   "source": [
    "current_assets = result['current_assets']\n",
    "current_liabilities = result['current_liabilities'] "
   ]
  },
  {
   "cell_type": "code",
   "execution_count": null,
   "metadata": {
    "colab": {
     "base_uri": "https://localhost:8080/",
     "height": 70
    },
    "colab_type": "code",
    "id": "WQhvsRtTnGKX",
    "outputId": "95a17dd5-c5d7-4ab7-f95f-a0331b4eacd8"
   },
   "outputs": [
    {
     "name": "stdout",
     "output_type": "stream",
     "text": [
      "95380.0 \n",
      "\n",
      "0.0\n"
     ]
    }
   ],
   "source": [
    "print(current_assets,\"\\n\")\n",
    "\n",
    "print(current_liabilities)"
   ]
  },
  {
   "cell_type": "code",
   "execution_count": null,
   "metadata": {
    "colab": {},
    "colab_type": "code",
    "id": "sVfZrnpfoPMo"
   },
   "outputs": [],
   "source": [
    "current_ratio = current_assets / current_liabilities\n",
    "\n",
    "print(current_ratio) # the answer will be an error since the current liabilities are zero so the python will raise zero division error"
   ]
  },
  {
   "cell_type": "code",
   "execution_count": null,
   "metadata": {
    "colab": {},
    "colab_type": "code",
    "id": "E2dryin4otyv"
   },
   "outputs": [],
   "source": []
  }
 ],
 "metadata": {
  "colab": {
   "collapsed_sections": [],
   "name": "XBRL_import.ipynb",
   "provenance": []
  },
  "kernelspec": {
   "display_name": "Python 3",
   "language": "python",
   "name": "python3"
  },
  "language_info": {
   "codemirror_mode": {
    "name": "ipython",
    "version": 3
   },
   "file_extension": ".py",
   "mimetype": "text/x-python",
   "name": "python",
   "nbconvert_exporter": "python",
   "pygments_lexer": "ipython3",
   "version": "3.6.5"
  }
 },
 "nbformat": 4,
 "nbformat_minor": 1
}
